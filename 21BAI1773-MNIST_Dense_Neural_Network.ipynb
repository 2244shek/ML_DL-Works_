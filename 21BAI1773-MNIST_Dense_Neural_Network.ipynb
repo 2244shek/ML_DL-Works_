{
  "cells": [
    {
      "cell_type": "markdown",
      "source": [
        "# **MNIST_Dense_Neural_Network**"
      ],
      "metadata": {
        "id": "v_NCDcQ_nc6x"
      }
    },
    {
      "cell_type": "markdown",
      "source": [
        " **Name: ABHISHEK PANIGRAHI |||\n",
        "Reg No. : 21BAI1773**"
      ],
      "metadata": {
        "id": "_ir-sWrbmEpe"
      }
    },
    {
      "cell_type": "code",
      "source": [
        "import numpy as np\n",
        "import tensorflow as tf\n",
        "from tensorflow.keras import layers, models\n",
        "from sklearn.model_selection import train_test_split\n",
        "from sklearn.preprocessing import StandardScaler\n",
        "from sklearn import datasets\n",
        "from sklearn.metrics import accuracy_score"
      ],
      "outputs": [],
      "execution_count": 1,
      "metadata": {
        "id": "6f4-L1Mdkyrg"
      }
    },
    {
      "cell_type": "code",
      "source": [
        "mnist = datasets.fetch_openml('mnist_784')\n",
        "X = mnist.data.astype('float32') / 255.0\n",
        "y = mnist.target.astype('int')"
      ],
      "outputs": [
        {
          "output_type": "stream",
          "name": "stderr",
          "text": "/usr/local/lib/python3.10/dist-packages/sklearn/datasets/_openml.py:968: FutureWarning: The default value of `parser` will change from `'liac-arff'` to `'auto'` in 1.4. You can set `parser='auto'` to silence this warning. Therefore, an `ImportError` will be raised from 1.4 if the dataset is dense and pandas is not installed. Note that the pandas parser may return different data types. See the Notes Section in fetch_openml's API doc for details.\n  warn(\n"
        }
      ],
      "execution_count": 2,
      "metadata": {
        "colab": {
          "base_uri": "https://localhost:8080/"
        },
        "id": "kjNfmlSIkyrl",
        "outputId": "25555cb9-b8a3-470a-f5f0-2854f9d39a3e"
      }
    },
    {
      "cell_type": "code",
      "source": [
        "X_train, X_test, y_train, y_test = train_test_split(X, y, test_size=0.2, random_state=42)"
      ],
      "outputs": [],
      "execution_count": 3,
      "metadata": {
        "id": "-pXeimGckyro"
      }
    },
    {
      "cell_type": "code",
      "source": [
        "scaler = StandardScaler()\n",
        "X_train = scaler.fit_transform(X_train)\n",
        "X_test = scaler.transform(X_test)"
      ],
      "outputs": [],
      "execution_count": 4,
      "metadata": {
        "id": "thAdBaPvkyro"
      }
    },
    {
      "cell_type": "code",
      "source": [
        "model = models.Sequential()\n",
        "model.add(layers.Dense(128, activation='relu', input_shape=(X_train.shape[1],)))\n",
        "model.add(layers.Dense(64, activation='relu'))\n",
        "model.add(layers.Dense(10, activation='softmax'))"
      ],
      "outputs": [],
      "execution_count": 5,
      "metadata": {
        "id": "PJRgnq6ckyro"
      }
    },
    {
      "cell_type": "code",
      "source": [
        "model.compile(optimizer='adam', loss='sparse_categorical_crossentropy', metrics=['accuracy'])"
      ],
      "outputs": [],
      "execution_count": 6,
      "metadata": {
        "id": "bVroASwxkyrp"
      }
    },
    {
      "cell_type": "code",
      "source": [
        "model.fit(X_train, y_train, epochs=10, batch_size=32, validation_split=0.1)"
      ],
      "outputs": [
        {
          "output_type": "stream",
          "name": "stdout",
          "text": "Epoch 1/10\n1575/1575 [==============================] - 12s 6ms/step - loss: 0.2403 - accuracy: 0.9300 - val_loss: 0.1630 - val_accuracy: 0.9546\nEpoch 2/10\n1575/1575 [==============================] - 6s 4ms/step - loss: 0.1032 - accuracy: 0.9684 - val_loss: 0.1425 - val_accuracy: 0.9661\nEpoch 3/10\n1575/1575 [==============================] - 8s 5ms/step - loss: 0.0751 - accuracy: 0.9777 - val_loss: 0.1423 - val_accuracy: 0.9673\nEpoch 4/10\n1575/1575 [==============================] - 6s 4ms/step - loss: 0.0511 - accuracy: 0.9837 - val_loss: 0.1690 - val_accuracy: 0.9634\nEpoch 5/10\n1575/1575 [==============================] - 8s 5ms/step - loss: 0.0420 - accuracy: 0.9867 - val_loss: 0.1870 - val_accuracy: 0.9677\nEpoch 6/10\n1575/1575 [==============================] - 6s 4ms/step - loss: 0.0384 - accuracy: 0.9887 - val_loss: 0.1977 - val_accuracy: 0.9629\nEpoch 7/10\n1575/1575 [==============================] - 9s 6ms/step - loss: 0.0350 - accuracy: 0.9894 - val_loss: 0.1695 - val_accuracy: 0.9664\nEpoch 8/10\n1575/1575 [==============================] - 6s 4ms/step - loss: 0.0288 - accuracy: 0.9910 - val_loss: 0.1722 - val_accuracy: 0.9688\nEpoch 9/10\n1575/1575 [==============================] - 8s 5ms/step - loss: 0.0276 - accuracy: 0.9915 - val_loss: 0.1909 - val_accuracy: 0.9718\nEpoch 10/10\n1575/1575 [==============================] - 6s 4ms/step - loss: 0.0251 - accuracy: 0.9925 - val_loss: 0.1992 - val_accuracy: 0.9705\n"
        },
        {
          "output_type": "execute_result",
          "execution_count": 7,
          "data": {
            "text/plain": "<keras.src.callbacks.History at 0x7d222db92b00>"
          },
          "metadata": {}
        }
      ],
      "execution_count": 7,
      "metadata": {
        "colab": {
          "base_uri": "https://localhost:8080/"
        },
        "id": "vKfeVw0Zkyrp",
        "outputId": "0bc935db-0d05-40a3-a00c-c9e4e205e42d"
      }
    },
    {
      "cell_type": "code",
      "source": [
        "y_pred = np.argmax(model.predict(X_test), axis=1)"
      ],
      "outputs": [
        {
          "output_type": "stream",
          "name": "stdout",
          "text": "438/438 [==============================] - 1s 2ms/step\n"
        }
      ],
      "execution_count": 8,
      "metadata": {
        "colab": {
          "base_uri": "https://localhost:8080/"
        },
        "id": "pNM08LPLkyrq",
        "outputId": "a3cea89d-5586-4dc0-97a0-90665cb03b04"
      }
    },
    {
      "cell_type": "code",
      "source": [
        "accuracy = accuracy_score(y_test, y_pred)\n",
        "print(f'Accuracy: {accuracy}')"
      ],
      "outputs": [
        {
          "output_type": "stream",
          "name": "stdout",
          "text": "Accuracy: 0.9665714285714285\n"
        }
      ],
      "execution_count": 9,
      "metadata": {
        "colab": {
          "base_uri": "https://localhost:8080/"
        },
        "id": "18iZkLAPkyrr",
        "outputId": "a7618e3e-48e7-438d-db1b-3dc5fa9ea6e3"
      }
    }
  ],
  "metadata": {
    "kernelspec": {
      "display_name": "Python 3",
      "language": "python",
      "name": "python3"
    },
    "language_info": {
      "codemirror_mode": {
        "name": "ipython",
        "version": 3
      },
      "file_extension": ".py",
      "mimetype": "text/x-python",
      "name": "python",
      "nbconvert_exporter": "python",
      "pygments_lexer": "ipython3",
      "version": "3.11.7"
    },
    "colab": {
      "provenance": []
    },
    "nteract": {
      "version": "nteract-front-end@1.0.0"
    }
  },
  "nbformat": 4,
  "nbformat_minor": 0
}