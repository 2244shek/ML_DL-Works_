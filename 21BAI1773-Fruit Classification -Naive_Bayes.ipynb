{
 "cells": [
  {
   "cell_type": "code",
   "execution_count": 1,
   "id": "d44c5904",
   "metadata": {
    "_cell_guid": "b1076dfc-b9ad-4769-8c92-a6c4dae69d19",
    "_uuid": "8f2839f25d086af736a60e9eeb907d3b93b6e0e5",
    "execution": {
     "iopub.execute_input": "2023-07-12T17:48:51.335956Z",
     "iopub.status.busy": "2023-07-12T17:48:51.335570Z",
     "iopub.status.idle": "2023-07-12T17:48:51.352951Z",
     "shell.execute_reply": "2023-07-12T17:48:51.351392Z"
    },
    "papermill": {
     "duration": 0.026404,
     "end_time": "2023-07-12T17:48:51.356214",
     "exception": false,
     "start_time": "2023-07-12T17:48:51.329810",
     "status": "completed"
    },
    "tags": []
   },
   "outputs": [
    {
     "name": "stdout",
     "output_type": "stream",
     "text": [
      "/kaggle/input/classify-fruits-with-naive-bayes-from-scratch-b2/sample_submission.csv\n",
      "/kaggle/input/classify-fruits-with-naive-bayes-from-scratch-b2/fruits_test.csv\n",
      "/kaggle/input/classify-fruits-with-naive-bayes-from-scratch-b2/fruits_train.csv\n"
     ]
    }
   ],
   "source": [
    "# This Python 3 environment comes with many helpful analytics libraries installed\n",
    "# It is defined by the kaggle/python Docker image: https://github.com/kaggle/docker-python\n",
    "# For example, here's several helpful packages to load\n",
    "\n",
    "import numpy as np # linear algebra\n",
    "import pandas as pd # data processing, CSV file I/O (e.g. pd.read_csv)\n",
    "\n",
    "# Input data files are available in the read-only \"../input/\" directory\n",
    "# For example, running this (by clicking run or pressing Shift+Enter) will list all files under the input directory\n",
    "\n",
    "import os\n",
    "for dirname, _, filenames in os.walk('/kaggle/input'):\n",
    "    for filename in filenames:\n",
    "        print(os.path.join(dirname, filename))\n",
    "\n",
    "# You can write up to 20GB to the current directory (/kaggle/working/) that gets preserved as output when you create a version using \"Save & Run All\" \n",
    "# You can also write temporary files to /kaggle/temp/, but they won't be saved outside of the current session"
   ]
  },
  {
   "cell_type": "code",
   "execution_count": 2,
   "id": "cfba877e",
   "metadata": {
    "execution": {
     "iopub.execute_input": "2023-07-12T17:48:51.366039Z",
     "iopub.status.busy": "2023-07-12T17:48:51.364987Z",
     "iopub.status.idle": "2023-07-12T17:48:51.434362Z",
     "shell.execute_reply": "2023-07-12T17:48:51.432958Z"
    },
    "papermill": {
     "duration": 0.077309,
     "end_time": "2023-07-12T17:48:51.437398",
     "exception": false,
     "start_time": "2023-07-12T17:48:51.360089",
     "status": "completed"
    },
    "tags": []
   },
   "outputs": [
    {
     "name": "stdout",
     "output_type": "stream",
     "text": [
      "    mass  width  height  label\n",
      "Id                            \n",
      "1    160    7.1     7.6      2\n",
      "2    194    7.2    10.3      3\n",
      "3    154    7.2     7.2      2\n",
      "4    154    7.0     7.1      1\n",
      "5    162    7.4     7.2      1\n"
     ]
    },
    {
     "data": {
      "text/plain": [
       "[[160.0, 7.1, 7.6, 2.0],\n",
       " [194.0, 7.2, 10.3, 3.0],\n",
       " [154.0, 7.2, 7.2, 2.0],\n",
       " [154.0, 7.0, 7.1, 1.0],\n",
       " [162.0, 7.4, 7.2, 1.0],\n",
       " [164.0, 7.2, 7.0, 2.0],\n",
       " [154.0, 7.1, 7.5, 2.0],\n",
       " [116.0, 6.1, 8.5, 3.0],\n",
       " [170.0, 7.6, 7.9, 1.0],\n",
       " [116.0, 5.9, 8.1, 3.0],\n",
       " [144.0, 6.8, 7.4, 2.0],\n",
       " [160.0, 7.5, 7.5, 1.0],\n",
       " [166.0, 6.9, 7.3, 1.0],\n",
       " [142.0, 7.6, 7.8, 2.0],\n",
       " [156.0, 7.4, 7.4, 1.0],\n",
       " [116.0, 6.0, 7.5, 3.0],\n",
       " [356.0, 9.2, 9.2, 2.0],\n",
       " [152.0, 6.5, 8.5, 3.0],\n",
       " [164.0, 7.3, 7.7, 1.0],\n",
       " [162.0, 7.5, 7.1, 1.0],\n",
       " [158.0, 7.1, 7.5, 2.0],\n",
       " [140.0, 7.3, 7.1, 1.0],\n",
       " [186.0, 7.2, 9.2, 3.0],\n",
       " [174.0, 7.3, 10.1, 3.0],\n",
       " [180.0, 8.0, 6.8, 1.0],\n",
       " [168.0, 7.5, 7.6, 1.0],\n",
       " [216.0, 7.3, 10.2, 3.0],\n",
       " [160.0, 7.0, 7.4, 2.0],\n",
       " [172.0, 7.1, 7.6, 1.0],\n",
       " [140.0, 6.7, 7.1, 2.0],\n",
       " [180.0, 7.6, 8.2, 2.0],\n",
       " [362.0, 9.6, 9.2, 2.0],\n",
       " [342.0, 9.0, 9.4, 2.0],\n",
       " [152.0, 7.6, 7.3, 1.0],\n",
       " [200.0, 7.3, 10.5, 3.0],\n",
       " [116.0, 6.3, 7.7, 3.0],\n",
       " [178.0, 7.1, 7.8, 1.0],\n",
       " [192.0, 8.4, 7.3, 1.0],\n",
       " [118.0, 5.9, 8.0, 3.0],\n",
       " [132.0, 5.8, 8.7, 3.0]]"
      ]
     },
     "execution_count": 2,
     "metadata": {},
     "output_type": "execute_result"
    }
   ],
   "source": [
    "train_data = pd.read_csv(\"/kaggle/input/classify-fruits-with-naive-bayes-from-scratch-b2/fruits_train.csv\",index_col=0)\n",
    "print(train_data.head())\n",
    "trd = train_data.values.tolist()\n",
    "trd"
   ]
  },
  {
   "cell_type": "code",
   "execution_count": 3,
   "id": "719c1fbf",
   "metadata": {
    "execution": {
     "iopub.execute_input": "2023-07-12T17:48:51.447094Z",
     "iopub.status.busy": "2023-07-12T17:48:51.446717Z",
     "iopub.status.idle": "2023-07-12T17:48:51.476867Z",
     "shell.execute_reply": "2023-07-12T17:48:51.475970Z"
    },
    "papermill": {
     "duration": 0.037551,
     "end_time": "2023-07-12T17:48:51.479011",
     "exception": false,
     "start_time": "2023-07-12T17:48:51.441460",
     "status": "completed"
    },
    "tags": []
   },
   "outputs": [
    {
     "name": "stdout",
     "output_type": "stream",
     "text": [
      "    mass  width  height\n",
      "Id                     \n",
      "1    118    6.1     8.1\n",
      "2    158    7.2     7.8\n",
      "3    120    6.0     8.4\n",
      "4    210    7.8     8.0\n",
      "5    156    7.6     7.5\n"
     ]
    },
    {
     "data": {
      "text/plain": [
       "[[118.0, 6.1, 8.1],\n",
       " [158.0, 7.2, 7.8],\n",
       " [120.0, 6.0, 8.4],\n",
       " [210.0, 7.8, 8.0],\n",
       " [156.0, 7.6, 7.5],\n",
       " [176.0, 7.4, 7.2],\n",
       " [154.0, 7.3, 7.3],\n",
       " [196.0, 7.3, 9.7],\n",
       " [130.0, 6.0, 8.2],\n",
       " [150.0, 7.1, 7.9],\n",
       " [172.0, 7.4, 7.0],\n",
       " [156.0, 7.7, 7.1],\n",
       " [190.0, 7.5, 8.1],\n",
       " [204.0, 7.5, 9.2]]"
      ]
     },
     "execution_count": 3,
     "metadata": {},
     "output_type": "execute_result"
    }
   ],
   "source": [
    "test_data = pd.read_csv(\"/kaggle/input/classify-fruits-with-naive-bayes-from-scratch-b2/fruits_test.csv\",index_col=0)\n",
    "print(test_data.head())\n",
    "tsd = test_data.values.tolist()\n",
    "tsd"
   ]
  },
  {
   "cell_type": "code",
   "execution_count": 4,
   "id": "50a2805c",
   "metadata": {
    "execution": {
     "iopub.execute_input": "2023-07-12T17:48:51.489475Z",
     "iopub.status.busy": "2023-07-12T17:48:51.488702Z",
     "iopub.status.idle": "2023-07-12T17:48:51.506751Z",
     "shell.execute_reply": "2023-07-12T17:48:51.505509Z"
    },
    "papermill": {
     "duration": 0.026236,
     "end_time": "2023-07-12T17:48:51.509231",
     "exception": false,
     "start_time": "2023-07-12T17:48:51.482995",
     "status": "completed"
    },
    "tags": []
   },
   "outputs": [],
   "source": [
    "def separate_by_class(dataset):\n",
    "    separated = {}\n",
    "    for i in range(len(dataset)):\n",
    "        vector = dataset[i]\n",
    "        class_value = vector[-1]\n",
    "        if class_value not in separated:\n",
    "            separated[class_value] = []\n",
    "        separated[class_value].append(vector)\n",
    "    return separated\n",
    "\n",
    "from math import sqrt\n",
    "def mean(numbers):\n",
    "    return sum(numbers) / float(len(numbers))\n",
    "\n",
    "def stdev(numbers):\n",
    "    avg = mean(numbers)\n",
    "    variance = sum([(x - avg) ** 2 for x in numbers]) / float(len(numbers) - 1)\n",
    "    return sqrt(variance)\n",
    "\n",
    "def summarize_dataset(dataset):\n",
    "    summaries = [(mean(column), stdev(column), len(column)) for column in zip(*dataset)]\n",
    "    del summaries[-1]  \n",
    "    return summaries\n",
    "\n",
    "def summarize_by_class(dataset):\n",
    "    separated = separate_by_class(dataset)\n",
    "    summaries = {}\n",
    "    for class_value, rows in separated.items():\n",
    "        summaries[class_value] = summarize_dataset(rows)\n",
    "    return summaries\n",
    "\n",
    "from math import exp, sqrt, pi\n",
    "def calculate_probability(x, mean, stdev):\n",
    "    exponent = exp(-((x - mean) ** 2 / (2 * stdev ** 2)))\n",
    "    return (1 / (sqrt(2 * pi) * stdev)) * exponent\n",
    "\n",
    "def calculate_class_probabilities(summaries, row):\n",
    "    total_rows = sum([summaries[label][0][2] for label in summaries])\n",
    "    probabilities = {}\n",
    "    for class_value, class_summaries in summaries.items():\n",
    "        probabilities[class_value] = summaries[class_value][0][2] / float(total_rows)\n",
    "        for i in range(len(class_summaries)):\n",
    "            mean, stdev, _ = class_summaries[i]\n",
    "            probabilities[class_value] *= calculate_probability(row[i], mean, stdev)\n",
    "    return probabilities\n",
    "\n",
    "def predict(summaries, row):\n",
    "    probabilities = calculate_class_probabilities(summaries, row)\n",
    "    best_label, best_prob = None, -1\n",
    "    for class_value, probability in probabilities.items():\n",
    "        if best_label is None or probability > best_prob:\n",
    "            best_prob = probability\n",
    "            best_label = class_value\n",
    "    return best_label"
   ]
  },
  {
   "cell_type": "code",
   "execution_count": 5,
   "id": "8f323c59",
   "metadata": {
    "execution": {
     "iopub.execute_input": "2023-07-12T17:48:51.519528Z",
     "iopub.status.busy": "2023-07-12T17:48:51.519080Z",
     "iopub.status.idle": "2023-07-12T17:48:51.526777Z",
     "shell.execute_reply": "2023-07-12T17:48:51.525748Z"
    },
    "papermill": {
     "duration": 0.015556,
     "end_time": "2023-07-12T17:48:51.529040",
     "exception": false,
     "start_time": "2023-07-12T17:48:51.513484",
     "status": "completed"
    },
    "tags": []
   },
   "outputs": [
    {
     "data": {
      "text/plain": [
       "{2.0: [(201.23076923076923, 87.4243995748649, 13),\n",
       "  (7.630769230769231, 0.9741531496506894, 13),\n",
       "  (7.884615384615386, 0.845425094105675, 13)],\n",
       " 3.0: [(153.0, 38.76737147278741, 12),\n",
       "  (6.566666666666666, 0.6400757530925302, 12),\n",
       "  (8.941666666666666, 1.084148877174527, 12)],\n",
       " 1.0: [(165.06666666666666, 12.668671520535929, 15),\n",
       "  (7.439999999999999, 0.38321944477954517, 15),\n",
       "  (7.379999999999998, 0.3028436654683168, 15)]}"
      ]
     },
     "execution_count": 5,
     "metadata": {},
     "output_type": "execute_result"
    }
   ],
   "source": [
    "model = summarize_by_class(trd)\n",
    "model"
   ]
  },
  {
   "cell_type": "code",
   "execution_count": 6,
   "id": "9b15f83a",
   "metadata": {
    "execution": {
     "iopub.execute_input": "2023-07-12T17:48:51.539521Z",
     "iopub.status.busy": "2023-07-12T17:48:51.539024Z",
     "iopub.status.idle": "2023-07-12T17:48:51.548260Z",
     "shell.execute_reply": "2023-07-12T17:48:51.547107Z"
    },
    "papermill": {
     "duration": 0.017257,
     "end_time": "2023-07-12T17:48:51.550691",
     "exception": false,
     "start_time": "2023-07-12T17:48:51.533434",
     "status": "completed"
    },
    "tags": []
   },
   "outputs": [
    {
     "data": {
      "text/plain": [
       "[3, 1, 3, 2, 1, 1, 1, 3, 3, 1, 1, 1, 2, 3]"
      ]
     },
     "execution_count": 6,
     "metadata": {},
     "output_type": "execute_result"
    }
   ],
   "source": [
    "my_pred=[]\n",
    "for i in tsd:\n",
    "    label=predict(model,i)\n",
    "    my_pred.append(int(label))\n",
    "my_pred"
   ]
  },
  {
   "cell_type": "code",
   "execution_count": 7,
   "id": "c03a9318",
   "metadata": {
    "execution": {
     "iopub.execute_input": "2023-07-12T17:48:51.561424Z",
     "iopub.status.busy": "2023-07-12T17:48:51.561000Z",
     "iopub.status.idle": "2023-07-12T17:48:51.587185Z",
     "shell.execute_reply": "2023-07-12T17:48:51.586010Z"
    },
    "papermill": {
     "duration": 0.034448,
     "end_time": "2023-07-12T17:48:51.589691",
     "exception": false,
     "start_time": "2023-07-12T17:48:51.555243",
     "status": "completed"
    },
    "tags": []
   },
   "outputs": [
    {
     "data": {
      "text/html": [
       "<div>\n",
       "<style scoped>\n",
       "    .dataframe tbody tr th:only-of-type {\n",
       "        vertical-align: middle;\n",
       "    }\n",
       "\n",
       "    .dataframe tbody tr th {\n",
       "        vertical-align: top;\n",
       "    }\n",
       "\n",
       "    .dataframe thead th {\n",
       "        text-align: right;\n",
       "    }\n",
       "</style>\n",
       "<table border=\"1\" class=\"dataframe\">\n",
       "  <thead>\n",
       "    <tr style=\"text-align: right;\">\n",
       "      <th></th>\n",
       "      <th>ID</th>\n",
       "      <th>Category</th>\n",
       "    </tr>\n",
       "  </thead>\n",
       "  <tbody>\n",
       "    <tr>\n",
       "      <th>0</th>\n",
       "      <td>1</td>\n",
       "      <td>3</td>\n",
       "    </tr>\n",
       "    <tr>\n",
       "      <th>1</th>\n",
       "      <td>2</td>\n",
       "      <td>1</td>\n",
       "    </tr>\n",
       "    <tr>\n",
       "      <th>2</th>\n",
       "      <td>3</td>\n",
       "      <td>3</td>\n",
       "    </tr>\n",
       "    <tr>\n",
       "      <th>3</th>\n",
       "      <td>4</td>\n",
       "      <td>2</td>\n",
       "    </tr>\n",
       "    <tr>\n",
       "      <th>4</th>\n",
       "      <td>5</td>\n",
       "      <td>1</td>\n",
       "    </tr>\n",
       "    <tr>\n",
       "      <th>5</th>\n",
       "      <td>6</td>\n",
       "      <td>1</td>\n",
       "    </tr>\n",
       "    <tr>\n",
       "      <th>6</th>\n",
       "      <td>7</td>\n",
       "      <td>1</td>\n",
       "    </tr>\n",
       "    <tr>\n",
       "      <th>7</th>\n",
       "      <td>8</td>\n",
       "      <td>3</td>\n",
       "    </tr>\n",
       "    <tr>\n",
       "      <th>8</th>\n",
       "      <td>9</td>\n",
       "      <td>3</td>\n",
       "    </tr>\n",
       "    <tr>\n",
       "      <th>9</th>\n",
       "      <td>10</td>\n",
       "      <td>1</td>\n",
       "    </tr>\n",
       "    <tr>\n",
       "      <th>10</th>\n",
       "      <td>11</td>\n",
       "      <td>1</td>\n",
       "    </tr>\n",
       "    <tr>\n",
       "      <th>11</th>\n",
       "      <td>12</td>\n",
       "      <td>1</td>\n",
       "    </tr>\n",
       "    <tr>\n",
       "      <th>12</th>\n",
       "      <td>13</td>\n",
       "      <td>2</td>\n",
       "    </tr>\n",
       "    <tr>\n",
       "      <th>13</th>\n",
       "      <td>14</td>\n",
       "      <td>3</td>\n",
       "    </tr>\n",
       "  </tbody>\n",
       "</table>\n",
       "</div>"
      ],
      "text/plain": [
       "    ID  Category\n",
       "0    1         3\n",
       "1    2         1\n",
       "2    3         3\n",
       "3    4         2\n",
       "4    5         1\n",
       "5    6         1\n",
       "6    7         1\n",
       "7    8         3\n",
       "8    9         3\n",
       "9   10         1\n",
       "10  11         1\n",
       "11  12         1\n",
       "12  13         2\n",
       "13  14         3"
      ]
     },
     "execution_count": 7,
     "metadata": {},
     "output_type": "execute_result"
    }
   ],
   "source": [
    "my_sub = pd.DataFrame({'ID':test_data.index, 'Category':my_pred})\n",
    "my_sub.to_csv('submission.csv',index=False)\n",
    "my_sub"
   ]
  }
 ],
 "metadata": {
  "kernelspec": {
   "display_name": "Python 3",
   "language": "python",
   "name": "python3"
  },
  "language_info": {
   "codemirror_mode": {
    "name": "ipython",
    "version": 3
   },
   "file_extension": ".py",
   "mimetype": "text/x-python",
   "name": "python",
   "nbconvert_exporter": "python",
   "pygments_lexer": "ipython3",
   "version": "3.10.10"
  },
  "papermill": {
   "default_parameters": {},
   "duration": 15.407267,
   "end_time": "2023-07-12T17:48:52.517726",
   "environment_variables": {},
   "exception": null,
   "input_path": "__notebook__.ipynb",
   "output_path": "__notebook__.ipynb",
   "parameters": {},
   "start_time": "2023-07-12T17:48:37.110459",
   "version": "2.4.0"
  }
 },
 "nbformat": 4,
 "nbformat_minor": 5
}
